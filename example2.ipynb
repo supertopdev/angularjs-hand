{
 "metadata": {
  "name": ""
 },
 "nbformat": 3,
 "nbformat_minor": 0,
 "worksheets": [
  {
   "cells": [
    {
     "cell_type": "markdown",
     "metadata": {},
     "source": [
      "#### 1. Our working file [example1.html](https://github.com/sijanonly/angularjs-handson/blob/master/example1.html)"
     ]
    },
    {
     "cell_type": "markdown",
     "metadata": {},
     "source": [
      "#### 2. Two-way Binding : ng-model directive binds the value of HTML input to application data provided by ng-init in our case."
     ]
    },
    {
     "cell_type": "code",
     "collapsed": false,
     "input": [
      " <blockquote>\n",
      "    <div class=\"media\">\n",
      "      <div class=\"media-left media-middle\">\n",
      "        <span class=\"glyphicon glyphicon-comment\" aria-hidden=\"true\"></span>\n",
      "      </div>\n",
      "      <div class=\"media-body\">\n",
      "        \n",
      "        <p class=\"bg-success\">{{star.comment}}</p>\n",
      "      </div>\n",
      "    </div>\n",
      "     <input type=\"text\" ng-model=\"star.comment\">\n",
      "</blockquote>"
     ],
     "language": "python",
     "metadata": {},
     "outputs": []
    },
    {
     "cell_type": "markdown",
     "metadata": {},
     "source": [
      "#### 3. In the above exmaple ng-model in the input field is associated with the data `{{star.comment}}`"
     ]
    },
    {
     "cell_type": "markdown",
     "metadata": {},
     "source": [
      "#### 4. Look our final html file at : [example2.html](https://github.com/sijanonly/angularjs-handson/blob/master/example2.html)"
     ]
    },
    {
     "cell_type": "markdown",
     "metadata": {},
     "source": [
      "#### 5. [Run Code](http://codepen.io/sijanonly/pen/EPbbJM)"
     ]
    },
    {
     "cell_type": "code",
     "collapsed": false,
     "input": [],
     "language": "python",
     "metadata": {},
     "outputs": []
    }
   ],
   "metadata": {}
  }
 ]
}