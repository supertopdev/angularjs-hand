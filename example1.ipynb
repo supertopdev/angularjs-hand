{
 "metadata": {
  "name": ""
 },
 "nbformat": 3,
 "nbformat_minor": 0,
 "worksheets": [
  {
   "cells": [
    {
     "cell_type": "markdown",
     "metadata": {},
     "source": [
      "#### 1. Our original file is [base.html](https://github.com/sijanonly/angularjs-handson/blob/master/base.html) file."
     ]
    },
    {
     "cell_type": "markdown",
     "metadata": {},
     "source": [
      "#### 2. Let us include following .css and .js files in our base file. NOTE : I have used the   [CDN for bootstrap](https://www.bootstrapcdn.com/).\n"
     ]
    },
    {
     "cell_type": "markdown",
     "metadata": {},
     "source": [
      "\n",
      "   1. `<link rel=\"stylesheet\" href=\"https://maxcdn.bootstrapcdn.com/bootstrap/3.3.6/css/bootstrap.min.css\" integrity=\"sha384-1q8mTJOASx8j1Au+a5WDVnPi2lkFfwwEAa8hDDdjZlpLegxhjVME1fgjWPGmkzs7\" crossorigin=\"anonymous\"> `\n",
      "   2. `<script src=\"https://ajax.googleapis.com/ajax/libs/angularjs/1.4.5/angular.min.js\"></script> `\n",
      "\n"
     ]
    },
    {
     "cell_type": "markdown",
     "metadata": {},
     "source": [
      "#### 3. Next we configure our web page to be an Angular application.\n",
      "##### Include  ng-app angular directive to `<html>` tag. i.e ` <html lang=\"en\" ng-app>`\n"
     ]
    },
    {
     "cell_type": "markdown",
     "metadata": {},
     "source": [
      "#### 4. Now, let us initialize data for our application with `ng-init` as follow :"
     ]
    },
    {
     "cell_type": "code",
     "collapsed": false,
     "input": [
      " <div class=\"row row-content\"\n",
      "      ng-init=\"\n",
      "         star=\n",
      "         {\n",
      "           name:'Angelina Jolie',\n",
      "           image: 'images/angelina.jpg',\n",
      "           dob: 'June 4, 1975',\n",
      "           description:'Born in Los Angeles, California, on June 4, \n",
      "           1975, Angelina Jolie starred in the HBO biopic Gia before \n",
      "           earning an Academy Award for best supporting actress for \n",
      "           Girl, Interrupted. Jolie has become one of Hollywood top \n",
      "           marquee names, having starred in movies like Wanted, Mr. and \n",
      "           Mrs. Smith, Salt and Changeling, earning her first lead \n",
      "           actress Oscar nod for the latter.',\n",
      "           comment: ''\n",
      "        }\">"
     ],
     "language": "python",
     "metadata": {},
     "outputs": []
    },
    {
     "cell_type": "markdown",
     "metadata": {},
     "source": [
      "#### 5. Here we define a javascript array `star` with keys 'name', 'image', 'dob' and 'description'.\n"
     ]
    },
    {
     "cell_type": "markdown",
     "metadata": {},
     "source": [
      "#### 6. Now, we can access the attributes with `{{star.name}}`, `{{star.image}}` and so on as in following : \n"
     ]
    },
    {
     "cell_type": "code",
     "collapsed": false,
     "input": [
      "<div class=\"media\">\n",
      "    <div class=\"media-left media-middle\">\n",
      "        <a href=\"#\">\n",
      "        <img class=\"media-object img-rounded\" width=\"60\" height=\"90\" \n",
      "         ng-src={{star.image}} alt=\"Angelina\">\n",
      "        </a>\n",
      "    </div>\n",
      "    <div class=\"media-body\">\n",
      "        <h2 class=\"media-heading\">{{star.name}}\n",
      "         <span class=\"label label-danger\">superstar</span></h2>\n",
      "            <blockquote>\n",
      "                <p>{{star.description}}</p>\n",
      "            </blockquote>\n",
      "            <blockquote>\n",
      "                <p>{{star.dob}}</p>\n",
      "            </blockquote>\n",
      "    </div>\n",
      "</div>"
     ],
     "language": "python",
     "metadata": {},
     "outputs": []
    },
    {
     "cell_type": "markdown",
     "metadata": {},
     "source": [
      "#### 7. Look our final html file at : [example1.html](https://github.com/sijanonly/angularjs-handson/blob/master/example1.html)"
     ]
    },
    {
     "cell_type": "markdown",
     "metadata": {},
     "source": [
      "#### 8. [Run Code](http://codepen.io/sijanonly/pen/jWaONV)"
     ]
    },
    {
     "cell_type": "code",
     "collapsed": false,
     "input": [],
     "language": "python",
     "metadata": {},
     "outputs": []
    }
   ],
   "metadata": {}
  }
 ]
}